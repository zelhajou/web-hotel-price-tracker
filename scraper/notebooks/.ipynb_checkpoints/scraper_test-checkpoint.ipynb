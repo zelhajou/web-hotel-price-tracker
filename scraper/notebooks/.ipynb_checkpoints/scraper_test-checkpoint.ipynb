{
 "cells": [
  {
   "cell_type": "code",
   "execution_count": null,
   "metadata": {},
   "outputs": [],
   "source": [
    "# Import the scraper from the src directory\n",
    "import sys\n",
    "sys.path.append('../src')\n",
    "\n",
    "from hotel_scraper import KayakHotelScraper\n",
    "from datetime import datetime, timedelta\n",
    "\n",
    "# Set your search parameters\n",
    "check_in = datetime.now() + timedelta(days=30)\n",
    "check_out = check_in + timedelta(days=3)\n",
    "\n",
    "# Initialize scraper\n",
    "scraper = KayakHotelScraper(\n",
    "    city=\"New York\",\n",
    "    check_in_date=check_in,\n",
    "    check_out_date=check_out\n",
    ")\n",
    "\n",
    "# Run the scraper\n",
    "try:\n",
    "    hotels = scraper.scrape_hotels()\n",
    "    scraper.save_results()\n",
    "    print(f\"Successfully scraped {len(hotels)} hotels\")\n",
    "except Exception as e:\n",
    "    print(f\"An error occurred: {str(e)}\")\n",
    "finally:\n",
    "    scraper.close()\n",
    "\n",
    "# Load and preview the results\n",
    "import json\n",
    "with open('/app/data/hotel_data.json', 'r') as f:\n",
    "    data = json.load(f)\n",
    "\n",
    "# Display first hotel data\n",
    "print(json.dumps(data[0], indent=2))"
   ]
  },
  {
   "cell_type": "code",
   "execution_count": null,
   "metadata": {},
   "outputs": [],
   "source": []
  }
 ],
 "metadata": {
  "kernelspec": {
   "display_name": "Python 3 (ipykernel)",
   "language": "python",
   "name": "python3"
  },
  "language_info": {
   "codemirror_mode": {
    "name": "ipython",
    "version": 3
   },
   "file_extension": ".py",
   "mimetype": "text/x-python",
   "name": "python",
   "nbconvert_exporter": "python",
   "pygments_lexer": "ipython3",
   "version": "3.11.11"
  }
 },
 "nbformat": 4,
 "nbformat_minor": 4
}
